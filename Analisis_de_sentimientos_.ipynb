{
  "nbformat": 4,
  "nbformat_minor": 0,
  "metadata": {
    "colab": {
      "provenance": []
    },
    "kernelspec": {
      "name": "python3",
      "display_name": "Python 3"
    },
    "language_info": {
      "name": "python"
    }
  },
  "cells": [
    {
      "cell_type": "markdown",
      "source": [
        "**Proyecto Analisis de algoritmos sobre extraccion de comentarios de publicaciones de instagram para posteriormente analizar los datos y realizar un analisis de sentimientos**\n",
        "\n",
        "**Materia**: Analisis de algoritmos\n",
        "\n",
        "**Profesor:** Cristhiam Daniel Campos Julca\n",
        "\n",
        "**Integrantes:**\n",
        "\n",
        "Kamilt Andres Bejarano Diaz\n",
        "\n",
        "Jerson Osorio Cely\n",
        "\n",
        " Daniel Vargas Peña\n",
        "\n",
        " Laura Alexandra Rodríguez Hernández\n",
        "\n"
      ],
      "metadata": {
        "id": "Hq39DT--3AT9"
      }
    },
    {
      "cell_type": "code",
      "execution_count": null,
      "metadata": {
        "colab": {
          "base_uri": "https://localhost:8080/"
        },
        "id": "iXV4pHhp28iW",
        "outputId": "a1d67fd1-f1a8-479c-e2d8-121d7d4d0717"
      },
      "outputs": [
        {
          "output_type": "stream",
          "name": "stdout",
          "text": [
            "Collecting vaderSentiment\n",
            "  Downloading vaderSentiment-3.3.2-py2.py3-none-any.whl (125 kB)\n",
            "\u001b[?25l     \u001b[90m━━━━━━━━━━━━━━━━━━━━━━━━━━━━━━━━━━━━━━━━\u001b[0m \u001b[32m0.0/126.0 kB\u001b[0m \u001b[31m?\u001b[0m eta \u001b[36m-:--:--\u001b[0m\r\u001b[2K     \u001b[91m━━━━━━━━━━━━━━━━━━━━━━━━━━━━━━━━━━━━━━━\u001b[0m\u001b[90m╺\u001b[0m \u001b[32m122.9/126.0 kB\u001b[0m \u001b[31m4.2 MB/s\u001b[0m eta \u001b[36m0:00:01\u001b[0m\r\u001b[2K     \u001b[90m━━━━━━━━━━━━━━━━━━━━━━━━━━━━━━━━━━━━━━━━\u001b[0m \u001b[32m126.0/126.0 kB\u001b[0m \u001b[31m3.0 MB/s\u001b[0m eta \u001b[36m0:00:00\u001b[0m\n",
            "\u001b[?25hRequirement already satisfied: requests in /usr/local/lib/python3.10/dist-packages (from vaderSentiment) (2.31.0)\n",
            "Requirement already satisfied: charset-normalizer<4,>=2 in /usr/local/lib/python3.10/dist-packages (from requests->vaderSentiment) (3.3.2)\n",
            "Requirement already satisfied: idna<4,>=2.5 in /usr/local/lib/python3.10/dist-packages (from requests->vaderSentiment) (3.7)\n",
            "Requirement already satisfied: urllib3<3,>=1.21.1 in /usr/local/lib/python3.10/dist-packages (from requests->vaderSentiment) (2.0.7)\n",
            "Requirement already satisfied: certifi>=2017.4.17 in /usr/local/lib/python3.10/dist-packages (from requests->vaderSentiment) (2024.2.2)\n",
            "Installing collected packages: vaderSentiment\n",
            "Successfully installed vaderSentiment-3.3.2\n",
            "Collecting instaloader\n",
            "  Downloading instaloader-4.11.tar.gz (63 kB)\n",
            "\u001b[2K     \u001b[90m━━━━━━━━━━━━━━━━━━━━━━━━━━━━━━━━━━━━━━━━\u001b[0m \u001b[32m63.8/63.8 kB\u001b[0m \u001b[31m1.4 MB/s\u001b[0m eta \u001b[36m0:00:00\u001b[0m\n",
            "\u001b[?25h  Preparing metadata (setup.py) ... \u001b[?25l\u001b[?25hdone\n",
            "Requirement already satisfied: requests>=2.4 in /usr/local/lib/python3.10/dist-packages (from instaloader) (2.31.0)\n",
            "Requirement already satisfied: charset-normalizer<4,>=2 in /usr/local/lib/python3.10/dist-packages (from requests>=2.4->instaloader) (3.3.2)\n",
            "Requirement already satisfied: idna<4,>=2.5 in /usr/local/lib/python3.10/dist-packages (from requests>=2.4->instaloader) (3.7)\n",
            "Requirement already satisfied: urllib3<3,>=1.21.1 in /usr/local/lib/python3.10/dist-packages (from requests>=2.4->instaloader) (2.0.7)\n",
            "Requirement already satisfied: certifi>=2017.4.17 in /usr/local/lib/python3.10/dist-packages (from requests>=2.4->instaloader) (2024.2.2)\n",
            "Building wheels for collected packages: instaloader\n",
            "  Building wheel for instaloader (setup.py) ... \u001b[?25l\u001b[?25hdone\n",
            "  Created wheel for instaloader: filename=instaloader-4.11-py3-none-any.whl size=65967 sha256=5486793b9c5fa92779669baf68bba10e478b8d6af06635c5966ca19040e7b848\n",
            "  Stored in directory: /root/.cache/pip/wheels/59/74/a0/a643055404b7f51b588926301ce74f4ad195e5d45cde82e79d\n",
            "Successfully built instaloader\n",
            "Installing collected packages: instaloader\n",
            "Successfully installed instaloader-4.11\n"
          ]
        }
      ],
      "source": [
        "!pip install vaderSentiment\n",
        "!pip install instaloader"
      ]
    },
    {
      "cell_type": "markdown",
      "source": [
        "**Codigo para obtener los comentarios en un archivo json. Se obtiene la url, el usuario, el comentario y los likes.**"
      ],
      "metadata": {
        "id": "Cq-fOonA-skV"
      }
    },
    {
      "cell_type": "code",
      "source": [
        "import instaloader\n",
        "import json\n",
        "import re\n",
        "import time\n",
        "\n",
        "def extract_shortcode(instagram_url):\n",
        "    pattern = r\"(?:https?://)?(?:www\\.)?(?:instagram\\.com(?:/\\w+)?/p/)([\\w-]+)(?:/)?(\\?.*)?$\"\n",
        "    match = re.match(pattern, instagram_url)\n",
        "\n",
        "    if match:\n",
        "        shortcode = match.group(1)\n",
        "        return shortcode\n",
        "    else:\n",
        "        return \"Invalid Instagram URL\"\n",
        "\n",
        "def get_post_info(short_code):\n",
        "    L = instaloader.Instaloader()\n",
        "    L.login(\"federicosan2675@gmail.com\", \"FEDERICO2526@\")  # Cambiar por tus credenciales\n",
        "    query_type = \"get_post_from_shortcode\"\n",
        "\n",
        "    try:\n",
        "        post = instaloader.Post.from_shortcode(L.context, short_code)\n",
        "        comments = list(post.get_comments())\n",
        "\n",
        "        post_info = {\n",
        "            'url': post.url,\n",
        "            'shortcode': post.shortcode,\n",
        "            'owner': post.owner_username,\n",
        "            'caption': post.caption,\n",
        "            'likes': post.likes,\n",
        "            'comments': [{\n",
        "                'user': comment.owner.username,\n",
        "                'text': comment.text,\n",
        "                'likes': comment.likes_count,\n",
        "                'timestamp': comment.created_at_utc.strftime('%Y-%m-%d %H:%M:%S')\n",
        "            } for comment in comments]\n",
        "        }\n",
        "\n",
        "        return post_info\n",
        "\n",
        "    except instaloader.exceptions.ConnectionException:\n",
        "        print(\"Error: Connection error. Retrying...\")\n",
        "        time.sleep(120)\n",
        "        return get_post_info(short_code)\n",
        "\n",
        "# URL de la publicación de Instagram\n",
        "instagram_url = \"https://www.instagram.com/p/C7F53FtsPrS/\"\n",
        "\n",
        "# Extraer el shortcode\n",
        "shortcode = extract_shortcode(instagram_url)\n",
        "\n",
        "# Obtener información del post\n",
        "post_info = get_post_info(shortcode)\n",
        "\n",
        "# Guardar el diccionario JSON en un archivo\n",
        "with open('post_info.json', 'w') as f:\n",
        "    json.dump(post_info, f, indent=4)\n",
        "\n",
        "print(f'Información del post guardada en post_info.json')"
      ],
      "metadata": {
        "colab": {
          "base_uri": "https://localhost:8080/"
        },
        "id": "k1Vc6nyK-rrN",
        "outputId": "e2af1978-82a7-4ee4-84bb-ec5787b21674"
      },
      "execution_count": null,
      "outputs": [
        {
          "output_type": "stream",
          "name": "stdout",
          "text": [
            "Información del post guardada en post_info.json\n"
          ]
        }
      ]
    },
    {
      "cell_type": "markdown",
      "source": [
        "**codigo para saber si el comentario es negativo, positivo o neutral**\n",
        "\n",
        "Desafio: El codigo no suele reconocer los comentarios con emojis o con palabras muy poco comunes, por lo que se sesga y clasifica los comentarios en neutro."
      ],
      "metadata": {
        "id": "C1Vp4ROO_9xW"
      }
    },
    {
      "cell_type": "code",
      "source": [
        "import instaloader\n",
        "import json\n",
        "import re\n",
        "import time\n",
        "from vaderSentiment.vaderSentiment import SentimentIntensityAnalyzer\n",
        "\n",
        "def extract_shortcode(instagram_url):\n",
        "    pattern = r\"(?:https?://)?(?:www\\.)?(?:instagram\\.com(?:/\\w+)?/p/)([\\w-]+)(?:/)?(\\?.*)?$\"\n",
        "    match = re.match(pattern, instagram_url)\n",
        "\n",
        "    if match:\n",
        "        shortcode = match.group(1)\n",
        "        return shortcode\n",
        "    else:\n",
        "        return \"Invalid Instagram URL\"\n",
        "\n",
        "def get_post_info(short_code):\n",
        "    L = instaloader.Instaloader()\n",
        "    L.login(\"federicosan2675@gmail.com\", \"FEDERICO2526@\")  # Cambiar por tus credenciales\n",
        "\n",
        "    try:\n",
        "        post = instaloader.Post.from_shortcode(L.context, short_code)\n",
        "        comments = list(post.get_comments())\n",
        "\n",
        "        analyzer = SentimentIntensityAnalyzer()\n",
        "\n",
        "        post_info = {\n",
        "            'url': post.url,\n",
        "            'shortcode': post.shortcode,\n",
        "            'owner': post.owner_username,\n",
        "            'caption': post.caption,\n",
        "            'likes': post.likes,\n",
        "            'comments': [{\n",
        "                'user': comment.owner.username,\n",
        "                'text': comment.text,\n",
        "                'likes': comment.likes_count,\n",
        "                'timestamp': comment.created_at_utc.strftime('%Y-%m-%d %H:%M:%S'),\n",
        "                'sentiment': analyzer.polarity_scores(comment.text)\n",
        "            } for comment in comments]\n",
        "        }\n",
        "\n",
        "        return post_info\n",
        "\n",
        "    except instaloader.exceptions.ConnectionException:\n",
        "        print(\"Error: Connection error. Retrying...\")\n",
        "        time.sleep(120)\n",
        "        return get_post_info(short_code)\n",
        "\n",
        "# URL de la publicación de Instagram\n",
        "instagram_url = \"https://www.instagram.com/p/C7F53FtsPrS/\"\n",
        "\n",
        "# Extraer el shortcode\n",
        "shortcode = extract_shortcode(instagram_url)\n",
        "\n",
        "# Obtener información del post\n",
        "post_info = get_post_info(shortcode)\n",
        "\n",
        "# Guardar el diccionario JSON en un archivo\n",
        "with open('post_reaccion.json', 'w') as f:\n",
        "    json.dump(post_info, f, indent=4)\n",
        "\n",
        "print(f'Información del post guardada en post_info.json')"
      ],
      "metadata": {
        "colab": {
          "base_uri": "https://localhost:8080/"
        },
        "id": "cdB833m8__5u",
        "outputId": "30eb5581-9c2b-4c55-8057-f480e82b67bc"
      },
      "execution_count": null,
      "outputs": [
        {
          "output_type": "stream",
          "name": "stdout",
          "text": [
            "Información del post guardada en post_info.json\n"
          ]
        }
      ]
    },
    {
      "cell_type": "markdown",
      "source": [
        "**Codigo que genera un diagrama de barras**"
      ],
      "metadata": {
        "id": "HUCi_7J7XLdy"
      }
    },
    {
      "cell_type": "code",
      "source": [
        "import instaloader\n",
        "import json\n",
        "import re\n",
        "import time\n",
        "import matplotlib.pyplot as plt\n",
        "import pandas as pd\n",
        "from vaderSentiment.vaderSentiment import SentimentIntensityAnalyzer\n",
        "\n",
        "def extract_shortcode(instagram_url):\n",
        "    pattern = r\"(?:https?://)?(?:www\\.)?(?:instagram\\.com(?:/\\w+)?/p/)([\\w-]+)(?:/)?(\\?.*)?$\"\n",
        "    match = re.match(pattern, instagram_url)\n",
        "\n",
        "    if match:\n",
        "        shortcode = match.group(1)\n",
        "        return shortcode\n",
        "    else:\n",
        "        return \"Invalid Instagram URL\"\n",
        "\n",
        "def get_post_info(short_code):\n",
        "    L = instaloader.Instaloader()\n",
        "    L.login(\"federicosan2675@gmail.com\", \"FEDERICO2526@\")  # Cambiar por tus credenciales\n",
        "\n",
        "    try:\n",
        "        post = instaloader.Post.from_shortcode(L.context, short_code)\n",
        "        comments = list(post.get_comments())\n",
        "\n",
        "        analyzer = SentimentIntensityAnalyzer()\n",
        "\n",
        "        post_info = {\n",
        "            'url': post.url,\n",
        "            'shortcode': post.shortcode,\n",
        "            'owner': post.owner_username,\n",
        "            'caption': post.caption,\n",
        "            'likes': post.likes,\n",
        "            'comments': [{\n",
        "                'user': comment.owner.username,\n",
        "                'text': comment.text,\n",
        "                'likes': comment.likes_count,\n",
        "                'timestamp': comment.created_at_utc.strftime('%Y-%m-%d %H:%M:%S'),\n",
        "                'sentiment': analyzer.polarity_scores(comment.text)['compound'] # Tomar solo el puntaje de sentimiento compuesto\n",
        "            } for comment in comments]\n",
        "        }\n",
        "\n",
        "        return post_info\n",
        "\n",
        "    except instaloader.exceptions.ConnectionException:\n",
        "        print(\"Error: Connection error. Retrying...\")\n",
        "        time.sleep(120)\n",
        "        return get_post_info(short_code)\n",
        "\n",
        "# URL de la publicación de Instagram\n",
        "instagram_url = \"https://www.instagram.com/p/C7F53FtsPrS/\"\n",
        "\n",
        "# Extraer el shortcode\n",
        "shortcode = extract_shortcode(instagram_url)\n",
        "\n",
        "# Obtener información del post\n",
        "post_info = get_post_info(shortcode)\n",
        "\n",
        "# Guardar el diccionario JSON en un archivo\n",
        "with open('post_info.json', 'w') as f:\n",
        "    json.dump(post_info, f, indent=4)\n",
        "\n",
        "print(f'Información del post guardada en post_grafico_barras.json')\n",
        "\n",
        "# Crear un DataFrame de pandas con los datos de los comentarios\n",
        "comments_df = pd.DataFrame(post_info['comments'])\n",
        "\n",
        "# Función para clasificar el sentimiento en categorías\n",
        "def classify_sentiment(score):\n",
        "    if score >= 0.05:\n",
        "        return 'Positivo'\n",
        "    elif score <= -0.05:\n",
        "        return 'Negativo'\n",
        "    else:\n",
        "        return 'Neutral'\n",
        "\n",
        "# Aplicar la función de clasificación al DataFrame\n",
        "comments_df['sentiment_category'] = comments_df['sentiment'].apply(classify_sentiment)\n",
        "\n",
        "# Contar la cantidad de comentarios en cada categoría\n",
        "sentiment_counts = comments_df['sentiment_category'].value_counts()\n",
        "\n",
        "# Graficar la distribución de sentimientos\n",
        "plt.figure(figsize=(8, 6))\n",
        "sentiment_counts.plot(kind='bar', color=['green', 'red', 'blue'], alpha=0.7)\n",
        "plt.title('Distribución de Sentimientos de los Comentarios')\n",
        "plt.xlabel('Sentimiento')\n",
        "plt.ylabel('Cantidad de Comentarios')\n",
        "plt.xticks(rotation=0)\n",
        "plt.show()"
      ],
      "metadata": {
        "colab": {
          "base_uri": "https://localhost:8080/",
          "height": 602
        },
        "id": "63DgtalKXO5q",
        "outputId": "07ef6238-ce02-4526-c33d-240b883b16e3"
      },
      "execution_count": null,
      "outputs": [
        {
          "output_type": "stream",
          "name": "stdout",
          "text": [
            "Información del post guardada en post_grafico_barras.json\n"
          ]
        },
        {
          "output_type": "display_data",
          "data": {
            "text/plain": [
              "<Figure size 800x600 with 1 Axes>"
            ],
            "image/png": "[encoded data removed]"
          },
          "metadata": {}
        }
      ]
    },
    {
      "cell_type": "markdown",
      "source": [
        "**Palabas mas usadas**"
      ],
      "metadata": {
        "id": "G66DS5yrdbDA"
      }
    },
    {
      "cell_type": "code",
      "source": [
        "import instaloader\n",
        "import re\n",
        "import json\n",
        "import nltk\n",
        "import matplotlib.pyplot as plt\n",
        "from nltk.corpus import stopwords\n",
        "from nltk.tokenize import word_tokenize\n",
        "from collections import Counter\n",
        "\n",
        "# Descargar recursos necesarios para NLTK (solo si es la primera vez que se ejecuta)\n",
        "nltk.download('punkt')\n",
        "nltk.download('stopwords')\n",
        "\n",
        "def extract_comments(instagram_url):\n",
        "    pattern = r\"(?:https?://)?(?:www\\.)?(?:instagram\\.com(?:/\\w+)?/p/)([\\w-]+)(?:/)?(\\?.*)?$\"\n",
        "    match = re.match(pattern, instagram_url)\n",
        "\n",
        "    if match:\n",
        "        shortcode = match.group(1)\n",
        "        L = instaloader.Instaloader()\n",
        "        L.login(\"federicosan2675@gmail.com\", \"FEDERICO2526@\")  # Cambiar por tus credenciales\n",
        "\n",
        "        try:\n",
        "            post = instaloader.Post.from_shortcode(L.context, shortcode)\n",
        "            comments = list(post.get_comments())\n",
        "            return comments\n",
        "        except instaloader.exceptions.ConnectionException:\n",
        "            print(\"Error: Connection error.\")\n",
        "            return []\n",
        "    else:\n",
        "        print(\"Invalid Instagram URL\")\n",
        "        return []\n",
        "\n",
        "def get_top_words(comments, n=10):\n",
        "    stop_words = set(stopwords.words('english'))\n",
        "    words = []\n",
        "\n",
        "    for comment in comments:\n",
        "        text = comment.text.lower()\n",
        "        tokens = word_tokenize(text)\n",
        "        words.extend([word for word in tokens if word.isalnum() and len(word) >= 5 and word not in stop_words])\n",
        "\n",
        "    word_counts = Counter(words)\n",
        "    top_words = word_counts.most_common(n)\n",
        "    return top_words\n",
        "\n",
        "def plot_word_frequency(top_words):\n",
        "    words, counts = zip(*top_words)\n",
        "    plt.figure(figsize=(10, 6))\n",
        "    plt.bar(words, counts, color='skyblue')\n",
        "    plt.xticks(rotation=45, ha='right')\n",
        "    plt.xlabel('Palabra')\n",
        "    plt.ylabel('Frecuencia')\n",
        "    plt.title('Frecuencia de las Palabras más Usadas (con más de 5 letras)')\n",
        "    plt.tight_layout()\n",
        "    plt.show()\n",
        "\n",
        "# URL de la publicación de Instagram\n",
        "instagram_url = \"https://www.instagram.com/p/C7F53FtsPrS/\"\n",
        "\n",
        "# Extraer los comentarios\n",
        "comments = extract_comments(instagram_url)\n",
        "\n",
        "# Obtener las palabras más frecuentes con más de 5 letras\n",
        "top_words = get_top_words(comments)\n",
        "\n",
        "# Imprimir las palabras más frecuentes\n",
        "print(\"Palabras más frecuentes en los comentarios con más de 5 letras:\")\n",
        "for word, count in top_words:\n",
        "    print(f\"{word}: {count}\")\n",
        "\n",
        "# Guardar las palabras en un archivo\n",
        "with open('top_words_5letras.txt', 'w') as f:\n",
        "    for word, _ in top_words:\n",
        "        f.write(word + '\\n')\n",
        "\n",
        "# Generar gráfico de frecuencia de palabras con más de 5 letras\n",
        "plot_word_frequency(top_words)"
      ],
      "metadata": {
        "colab": {
          "base_uri": "https://localhost:8080/",
          "height": 689
        },
        "id": "_NeVkdMKddhl",
        "outputId": "cff23ee8-94ca-4381-b7d0-731a5de4eff1"
      },
      "execution_count": null,
      "outputs": [
        {
          "output_type": "stream",
          "name": "stderr",
          "text": [
            "[nltk_data] Downloading package punkt to /root/nltk_data...\n",
            "[nltk_data]   Unzipping tokenizers/punkt.zip.\n",
            "[nltk_data] Downloading package stopwords to /root/nltk_data...\n",
            "[nltk_data]   Unzipping corpora/stopwords.zip.\n"
          ]
        },
        {
          "output_type": "stream",
          "name": "stdout",
          "text": [
            "Palabras más frecuentes en los comentarios con más de 5 letras:\n",
            "petro: 53\n",
            "señor: 35\n",
            "presidente: 34\n",
            "colombia: 34\n",
            "fuera: 25\n",
            "cauca: 21\n",
            "todos: 21\n",
            "usted: 17\n",
            "gobierno: 13\n",
            "cambio: 12\n"
          ]
        },
        {
          "output_type": "display_data",
          "data": {
            "text/plain": [
              "<Figure size 1000x600 with 1 Axes>"
            ],
            "image/png": "[encoded data removed]"
          },
          "metadata": {}
        }
      ]
    }
  ]
}